{
 "cells": [
  {
   "cell_type": "code",
   "execution_count": 1,
   "id": "0caa3b52",
   "metadata": {},
   "outputs": [],
   "source": [
    "import numpy as np\n",
    "import matplotlib.pyplot as plt"
   ]
  },
  {
   "cell_type": "code",
   "execution_count": 2,
   "id": "461e60f7",
   "metadata": {},
   "outputs": [],
   "source": [
    "x=np.array([1,2,3,4,5])\n",
    "y=np.array([7,14,15,18,19])"
   ]
  },
  {
   "cell_type": "code",
   "execution_count": 3,
   "id": "2477f04c",
   "metadata": {},
   "outputs": [
    {
     "data": {
      "image/png": "[encoded data removed]",
      "text/plain": [
       "<Figure size 432x288 with 1 Axes>"
      ]
     },
     "metadata": {
      "needs_background": "light"
     },
     "output_type": "display_data"
    }
   ],
   "source": [
    "plt.scatter(x,y)\n",
    "plt.xlabel(\"Input x\")\n",
    "plt.ylabel(\"Outputs y \")\n",
    "plt.title(\"Simple Linear regression \")\n",
    "plt.show()"
   ]
  },
  {
   "cell_type": "code",
   "execution_count": 4,
   "id": "6e219625",
   "metadata": {},
   "outputs": [
    {
     "data": {
      "text/plain": [
       "array([[ 7],\n",
       "       [14],\n",
       "       [15],\n",
       "       [18],\n",
       "       [19]])"
      ]
     },
     "execution_count": 4,
     "metadata": {},
     "output_type": "execute_result"
    }
   ],
   "source": [
    "y=y.reshape(len(y),1)\n",
    "y"
   ]
  },
  {
   "cell_type": "markdown",
   "id": "a2169205",
   "metadata": {},
   "source": [
    "#### using Normal Equation"
   ]
  },
  {
   "cell_type": "code",
   "execution_count": 5,
   "id": "8f7b3b0f",
   "metadata": {},
   "outputs": [
    {
     "name": "stdout",
     "output_type": "stream",
     "text": [
      "[[6.2]\n",
      " [2.8]]\n"
     ]
    }
   ],
   "source": [
    "x_new = np.array([np.ones(len(x)),x.flatten()]).T\n",
    "\n",
    "parameters =np.linalg.inv(x_new.T.dot(x_new)).dot(x_new.T).dot(y)\n",
    "print(parameters)"
   ]
  },
  {
   "cell_type": "code",
   "execution_count": 6,
   "id": "ceb70bf1",
   "metadata": {},
   "outputs": [
    {
     "name": "stdout",
     "output_type": "stream",
     "text": [
      "[[ 9. ]\n",
      " [11.8]\n",
      " [14.6]\n",
      " [17.4]\n",
      " [20.2]]\n"
     ]
    }
   ],
   "source": [
    "y_predicted = x_new.dot(parameters)\n",
    "print(y_predicted)"
   ]
  },
  {
   "cell_type": "code",
   "execution_count": 7,
   "id": "5e71502f",
   "metadata": {},
   "outputs": [
    {
     "data": {
      "image/png": "[encoded data removed]",
      "text/plain": [
       "<Figure size 432x288 with 1 Axes>"
      ]
     },
     "metadata": {
      "needs_background": "light"
     },
     "output_type": "display_data"
    }
   ],
   "source": [
    "plt.scatter(x,y)\n",
    "plt.plot(x,y_predicted,c=\"green\")\n",
    "plt.plot()\n",
    "plt.xlabel(\"Input x\")\n",
    "plt.ylabel(\"Outputs y\")\n",
    "plt.title(\"Simple Linear regression \")\n",
    "plt.show()"
   ]
  },
  {
   "cell_type": "code",
   "execution_count": null,
   "id": "ab0b891f",
   "metadata": {},
   "outputs": [],
   "source": []
  }
 ],
 "metadata": {
  "kernelspec": {
   "display_name": "Python 3 (ipykernel)",
   "language": "python",
   "name": "python3"
  },
  "language_info": {
   "codemirror_mode": {
    "name": "ipython",
    "version": 3
   },
   "file_extension": ".py",
   "mimetype": "text/x-python",
   "name": "python",
   "nbconvert_exporter": "python",
   "pygments_lexer": "ipython3",
   "version": "3.10.4"
  }
 },
 "nbformat": 4,
 "nbformat_minor": 5
}
